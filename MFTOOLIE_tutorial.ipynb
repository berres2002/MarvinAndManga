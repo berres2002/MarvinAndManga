{
 "cells": [
  {
   "cell_type": "markdown",
   "metadata": {},
   "source": [
    "## MFTOOLIE tutorial\n",
    "Make sure you have `toolie.py` in the same file as this notebook\n",
    "\n",
    "Also you must have installed the libraries:\n",
    "- `astropy`\n",
    "- `numpy`\n",
    "- `scipy`\n",
    "- `marvin`"
   ]
  },
  {
   "cell_type": "markdown",
   "metadata": {},
   "source": [
    "## Importing \n",
    "type `from toolie import MFTOOLIE`\n",
    "\n",
    "It will also import all of the libraries mentioned above"
   ]
  },
  {
   "cell_type": "code",
   "execution_count": 1,
   "metadata": {},
   "outputs": [
    {
     "name": "stderr",
     "output_type": "stream",
     "text": [
      "c:\\users\\berre\\appdata\\local\\programs\\python\\python37-32\\lib\\site-packages\\marvin\\core\\exceptions.py:55: UserWarning: cannot initiate Sentry error reporting: unknown error.\n",
      "  UserWarning)\n",
      "c:\\users\\berre\\appdata\\local\\programs\\python\\python37-32\\lib\\site-packages\\marvin\\__init__.py:370: MarvinUserWarning: path C:\\Users\\berre\\sas\\dr15\\manga\\spectro\\redux\\v2_4_3\\drpall-v2_4_3.fits cannot be found. Setting drpall to None.\n",
      "  .format(value), MarvinUserWarning)\n",
      "c:\\users\\berre\\appdata\\local\\programs\\python\\python37-32\\lib\\importlib\\_bootstrap.py:219: RuntimeWarning: numpy.ufunc size changed, may indicate binary incompatibility. Expected 112 from C header, got 124 from PyObject\n",
      "  return f(*args, **kwds)\n",
      "c:\\users\\berre\\appdata\\local\\programs\\python\\python37-32\\lib\\importlib\\_bootstrap.py:219: RuntimeWarning: numpy.ufunc size changed, may indicate binary incompatibility. Expected 112 from C header, got 124 from PyObject\n",
      "  return f(*args, **kwds)\n"
     ]
    },
    {
     "name": "stdout",
     "output_type": "stream",
     "text": [
      "INFO: No release version set. Setting default to DR15\n"
     ]
    },
    {
     "name": "stderr",
     "output_type": "stream",
     "text": [
      "c:\\users\\berre\\appdata\\local\\programs\\python\\python37-32\\lib\\importlib\\_bootstrap.py:219: RuntimeWarning: numpy.ufunc size changed, may indicate binary incompatibility. Expected 112 from C header, got 124 from PyObject\n",
      "  return f(*args, **kwds)\n",
      "c:\\users\\berre\\appdata\\local\\programs\\python\\python37-32\\lib\\importlib\\_bootstrap.py:219: RuntimeWarning: numpy.ufunc size changed, may indicate binary incompatibility. Expected 112 from C header, got 124 from PyObject\n",
      "  return f(*args, **kwds)\n",
      "c:\\users\\berre\\appdata\\local\\programs\\python\\python37-32\\lib\\site-packages\\fuzzywuzzy\\fuzz.py:11: UserWarning: Using slow pure-python SequenceMatcher. Install python-Levenshtein to remove this warning\n",
      "  warnings.warn('Using slow pure-python SequenceMatcher. Install python-Levenshtein to remove this warning')\n",
      "c:\\users\\berre\\appdata\\local\\programs\\python\\python37-32\\lib\\importlib\\_bootstrap.py:219: RuntimeWarning: numpy.ufunc size changed, may indicate binary incompatibility. Expected 112 from C header, got 124 from PyObject\n",
      "  return f(*args, **kwds)\n"
     ]
    }
   ],
   "source": [
    "from toolie import MFTOOLIE"
   ]
  },
  {
   "cell_type": "markdown",
   "metadata": {},
   "source": [
    "## Initializing\n",
    "You can initialize a galaxy object like you would initialize a marvin Maps object using its plate-ifu or mangaid\n",
    "\n",
    "The initializing process finds both H alpha and H beta, masks out the non star-forming spaxels, and averages the arrays\n",
    "\n",
    "It also finds the flux ratio and averages that array as well"
   ]
  },
  {
   "cell_type": "code",
   "execution_count": 2,
   "metadata": {},
   "outputs": [],
   "source": [
    "g1 = MFTOOLIE('8485-1901')"
   ]
  },
  {
   "cell_type": "markdown",
   "metadata": {},
   "source": [
    "## Using MFTOOLIE for finding Flux\n",
    "The two methods for finding flux are `fluxFind` and `extinct`\n",
    "\n",
    "`extinct` finds the dust extinction\n",
    "\n",
    "`fluxFind` uses `extinct` to find the dust corrected flux"
   ]
  },
  {
   "cell_type": "code",
   "execution_count": 3,
   "metadata": {
    "scrolled": true
   },
   "outputs": [
    {
     "data": {
      "text/plain": [
       "0.40884030538786686"
      ]
     },
     "execution_count": 3,
     "metadata": {},
     "output_type": "execute_result"
    }
   ],
   "source": [
    "g1.extinct()"
   ]
  },
  {
   "cell_type": "code",
   "execution_count": 4,
   "metadata": {},
   "outputs": [
    {
     "data": {
      "text/latex": [
       "$3.0450185 \\times 10^{-14} \\; \\mathrm{\\frac{erg}{s\\,cm^{2}}}$"
      ],
      "text/plain": [
       "<Quantity 3.04501854e-14 erg / (cm2 s)>"
      ]
     },
     "execution_count": 4,
     "metadata": {},
     "output_type": "execute_result"
    }
   ],
   "source": [
    "g1.fluxFind()"
   ]
  },
  {
   "cell_type": "markdown",
   "metadata": {},
   "source": [
    "## Using MFTOOLIE for finding Distance\n",
    "`findDist` is the method for finding distance using redshift\n",
    "\n",
    "It can either use astropy's `luminosity_distance` function or it can use user specified values\n",
    "\n",
    "To use user specified calculations set the keyword argument `calc=True`\n",
    "\n",
    "To change calculation constants such as Hubbles constant, Omega m, Omega k, and Omega A (Dark matter) edit the file `toolie.py`"
   ]
  },
  {
   "cell_type": "code",
   "execution_count": 5,
   "metadata": {
    "scrolled": true
   },
   "outputs": [
    {
     "data": {
      "text/latex": [
       "$1.8386923 \\times 10^{8} \\; \\mathrm{pc}$"
      ],
      "text/plain": [
       "<Quantity 1.83869229e+08 pc>"
      ]
     },
     "execution_count": 5,
     "metadata": {},
     "output_type": "execute_result"
    }
   ],
   "source": [
    "g1.findDist()"
   ]
  },
  {
   "cell_type": "code",
   "execution_count": 6,
   "metadata": {},
   "outputs": [
    {
     "data": {
      "text/latex": [
       "$[181.34389,~2.0479235 \\times 10^{-12}] \\; \\mathrm{Mpc}$"
      ],
      "text/plain": [
       "<Quantity [1.81343892e+02, 2.04792353e-12] Mpc>"
      ]
     },
     "execution_count": 6,
     "metadata": {},
     "output_type": "execute_result"
    }
   ],
   "source": [
    "g1.findDist(calc=True)"
   ]
  },
  {
   "cell_type": "markdown",
   "metadata": {},
   "source": [
    "You can check the accuracy of these values by going to the NED file for this galaxy and checking the Luminosity distance:\n",
    "\n",
    "http://ned.ipac.caltech.edu/cgi-bin/objsearch?search_type=Obj_id&objid=6863942&objname=1&img_stamp=YES&hconst=69.3&omegam=0.27&omegav=0.73&corr_z=1"
   ]
  },
  {
   "cell_type": "markdown",
   "metadata": {},
   "source": [
    "## Using MFTOOLIE for finding Luminosity\n",
    "`findLum` is the method used for finding Luminosity \n",
    "\n",
    "This can be used independently of the other methods\n",
    "\n",
    "Calling it will give the Luminosity in terms of erg/s"
   ]
  },
  {
   "cell_type": "code",
   "execution_count": 7,
   "metadata": {},
   "outputs": [
    {
     "data": {
      "text/latex": [
       "$1.2317399 \\times 10^{41} \\; \\mathrm{\\frac{erg}{s}}$"
      ],
      "text/plain": [
       "<Quantity 1.23173989e+41 erg / s>"
      ]
     },
     "execution_count": 7,
     "metadata": {},
     "output_type": "execute_result"
    }
   ],
   "source": [
    "g1.findLum()\n",
    "#1.2*10^58 * 10^-17"
   ]
  },
  {
   "cell_type": "markdown",
   "metadata": {},
   "source": [
    "## Using marvin's getMapRatio\n",
    "To use marvin's ratio instead of just Ha/Hb just type `use_mRatio=True` into any of the flux or luminosity functions"
   ]
  },
  {
   "cell_type": "code",
   "execution_count": 8,
   "metadata": {},
   "outputs": [
    {
     "data": {
      "text/latex": [
       "$19251.503 \\; \\mathrm{}$"
      ],
      "text/plain": [
       "<Quantity 19251.50270294>"
      ]
     },
     "execution_count": 8,
     "metadata": {},
     "output_type": "execute_result"
    }
   ],
   "source": [
    "g1.fluxFind(use_mRatio=True)"
   ]
  },
  {
   "cell_type": "code",
   "execution_count": 9,
   "metadata": {
    "scrolled": true
   },
   "outputs": [
    {
     "data": {
      "text/latex": [
       "$7.7874218 \\times 10^{58} \\; \\mathrm{\\frac{erg}{s}}$"
      ],
      "text/plain": [
       "<Quantity 7.78742182e+58 erg / s>"
      ]
     },
     "execution_count": 9,
     "metadata": {},
     "output_type": "execute_result"
    }
   ],
   "source": [
    "g1.findLum(use_mRatio=True)"
   ]
  },
  {
   "cell_type": "markdown",
   "metadata": {},
   "source": [
    "This tutorial was made by Aidan Berres 1/14/20\n",
    "\n",
    "aberres@uw.edu\n",
    "\n",
    "Distance calculations were derived from, Hogg (2000) \n",
    "\n",
    "https://arxiv.org/pdf/astro-ph/9905116v4.pdf"
   ]
  },
  {
   "cell_type": "code",
   "execution_count": 10,
   "metadata": {},
   "outputs": [
    {
     "data": {
      "text/latex": [
       "$1.2022168 \\times 10^{-14} \\; \\mathrm{}$"
      ],
      "text/plain": [
       "<Quantity 1.2022168e-14>"
      ]
     },
     "execution_count": 10,
     "metadata": {},
     "output_type": "execute_result"
    }
   ],
   "source": [
    "g1.ha"
   ]
  },
  {
   "cell_type": "code",
   "execution_count": 11,
   "metadata": {},
   "outputs": [
    {
     "data": {
      "text/latex": [
       "$2.7133937 \\times 10^{-15} \\; \\mathrm{}$"
      ],
      "text/plain": [
       "<Quantity 2.71339368e-15>"
      ]
     },
     "execution_count": 11,
     "metadata": {},
     "output_type": "execute_result"
    }
   ],
   "source": [
    "g1.hb"
   ]
  },
  {
   "cell_type": "code",
   "execution_count": 12,
   "metadata": {},
   "outputs": [],
   "source": [
    "from marvin.tools import Cube"
   ]
  },
  {
   "cell_type": "code",
   "execution_count": 13,
   "metadata": {},
   "outputs": [
    {
     "name": "stdout",
     "output_type": "stream",
     "text": [
      "232.544703894 48.6902009334\n"
     ]
    }
   ],
   "source": [
    "c=Cube('8485-1901')\n",
    "print(c.ra,c.dec)"
   ]
  },
  {
   "cell_type": "code",
   "execution_count": 14,
   "metadata": {},
   "outputs": [
    {
     "data": {
      "text/plain": [
       "232.545"
      ]
     },
     "execution_count": 14,
     "metadata": {},
     "output_type": "execute_result"
    }
   ],
   "source": [
    "g1.m.dapall['ifura']"
   ]
  }
 ],
 "metadata": {
  "kernelspec": {
   "display_name": "Python 3",
   "language": "python",
   "name": "python3"
  },
  "language_info": {
   "codemirror_mode": {
    "name": "ipython",
    "version": 3
   },
   "file_extension": ".py",
   "mimetype": "text/x-python",
   "name": "python",
   "nbconvert_exporter": "python",
   "pygments_lexer": "ipython3",
   "version": "3.7.2"
  }
 },
 "nbformat": 4,
 "nbformat_minor": 2
}
